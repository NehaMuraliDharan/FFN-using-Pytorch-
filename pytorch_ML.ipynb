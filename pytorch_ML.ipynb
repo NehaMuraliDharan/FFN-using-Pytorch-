{
  "nbformat": 4,
  "nbformat_minor": 0,
  "metadata": {
    "colab": {
      "name": "pytorch_ML.ipynb",
      "provenance": [],
      "collapsed_sections": []
    },
    "kernelspec": {
      "name": "python3",
      "display_name": "Python 3"
    },
    "accelerator": "GPU"
  },
  "cells": [
    {
      "cell_type": "markdown",
      "metadata": {
        "id": "qDrx40c6hyi2",
        "colab_type": "text"
      },
      "source": [
        "#Basic Pytorch \n"
      ]
    },
    {
      "cell_type": "code",
      "metadata": {
        "id": "FohQ2yL2h3dd",
        "colab_type": "code",
        "colab": {}
      },
      "source": [
        "import torch \n",
        "import numpy as np\n",
        "import matplotlib.pyplot as plt"
      ],
      "execution_count": 1,
      "outputs": []
    },
    {
      "cell_type": "code",
      "metadata": {
        "id": "zqSLnLEtiN42",
        "colab_type": "code",
        "colab": {
          "base_uri": "https://localhost:8080/",
          "height": 319
        },
        "outputId": "6984e905-f954-4e8d-a42c-94c373643339"
      },
      "source": [
        "x=torch.ones(3,2)\n",
        "print(x)\n",
        "x=torch.zeros(3,2)\n",
        "print(x)\n",
        "x=torch.rand(3,2)\n",
        "print(x)\n",
        "y=np.ones((3, 2))\n",
        "print(y)\n",
        "y=np.zeros((3, 2))\n",
        "print(y)\n",
        "y=np.random.random((3, 2))\n",
        "print(y)"
      ],
      "execution_count": 2,
      "outputs": [
        {
          "output_type": "stream",
          "text": [
            "tensor([[1., 1.],\n",
            "        [1., 1.],\n",
            "        [1., 1.]])\n",
            "tensor([[0., 0.],\n",
            "        [0., 0.],\n",
            "        [0., 0.]])\n",
            "tensor([[0.3075, 0.1644],\n",
            "        [0.2836, 0.1891],\n",
            "        [0.8622, 0.6108]])\n",
            "[[1. 1.]\n",
            " [1. 1.]\n",
            " [1. 1.]]\n",
            "[[0. 0.]\n",
            " [0. 0.]\n",
            " [0. 0.]]\n",
            "[[0.2313304  0.65275143]\n",
            " [0.600482   0.82778655]\n",
            " [0.55849566 0.50059239]]\n"
          ],
          "name": "stdout"
        }
      ]
    },
    {
      "cell_type": "code",
      "metadata": {
        "id": "hZlc8yb2iYKV",
        "colab_type": "code",
        "colab": {
          "base_uri": "https://localhost:8080/",
          "height": 67
        },
        "outputId": "fcc3806a-7520-4f53-9401-97e603f2c904"
      },
      "source": [
        "x= torch.empty(3,2) #enters dummy values but does not initialize\n",
        "print(x)"
      ],
      "execution_count": 3,
      "outputs": [
        {
          "output_type": "stream",
          "text": [
            "tensor([[3.9430e-36, 0.0000e+00],\n",
            "        [3.3631e-44, 0.0000e+00],\n",
            "        [       nan, 0.0000e+00]])\n"
          ],
          "name": "stdout"
        }
      ]
    },
    {
      "cell_type": "code",
      "metadata": {
        "id": "AM0XrV0Fi-Rq",
        "colab_type": "code",
        "colab": {}
      },
      "source": [
        "y=torch.zeros_like(x)"
      ],
      "execution_count": 4,
      "outputs": []
    },
    {
      "cell_type": "code",
      "metadata": {
        "id": "utjHHPlijFWO",
        "colab_type": "code",
        "colab": {
          "base_uri": "https://localhost:8080/",
          "height": 67
        },
        "outputId": "71ffe719-eea1-48d5-c821-15912dc56780"
      },
      "source": [
        "x=torch.tensor([[1,2],\n",
        "               [3,4],\n",
        "               [5,6]])\n",
        "print(x)"
      ],
      "execution_count": 5,
      "outputs": [
        {
          "output_type": "stream",
          "text": [
            "tensor([[1, 2],\n",
            "        [3, 4],\n",
            "        [5, 6]])\n"
          ],
          "name": "stdout"
        }
      ]
    },
    {
      "cell_type": "code",
      "metadata": {
        "id": "2sFbubZCjNT5",
        "colab_type": "code",
        "colab": {
          "base_uri": "https://localhost:8080/",
          "height": 319
        },
        "outputId": "732c3040-345f-491f-e42c-0f387b2cdd9e"
      },
      "source": [
        "\n",
        "print(x)\n",
        "print(y)\n",
        "z=x+y\n",
        "print(z)\n",
        "a=z.add(y)\n",
        "print(a)\n",
        "b=a.add_(x)\n",
        "print(a)\n",
        "print(b)"
      ],
      "execution_count": 6,
      "outputs": [
        {
          "output_type": "stream",
          "text": [
            "tensor([[1, 2],\n",
            "        [3, 4],\n",
            "        [5, 6]])\n",
            "tensor([[0., 0.],\n",
            "        [0., 0.],\n",
            "        [0., 0.]])\n",
            "tensor([[1., 2.],\n",
            "        [3., 4.],\n",
            "        [5., 6.]])\n",
            "tensor([[1., 2.],\n",
            "        [3., 4.],\n",
            "        [5., 6.]])\n",
            "tensor([[ 2.,  4.],\n",
            "        [ 6.,  8.],\n",
            "        [10., 12.]])\n",
            "tensor([[ 2.,  4.],\n",
            "        [ 6.,  8.],\n",
            "        [10., 12.]])\n"
          ],
          "name": "stdout"
        }
      ]
    },
    {
      "cell_type": "markdown",
      "metadata": {
        "id": "JE3GmXr9j4Gt",
        "colab_type": "text"
      },
      "source": [
        "#Slicing tensors "
      ]
    },
    {
      "cell_type": "code",
      "metadata": {
        "id": "gU_WpmZCkCS2",
        "colab_type": "code",
        "colab": {
          "base_uri": "https://localhost:8080/",
          "height": 34
        },
        "outputId": "014554cc-1614-4ed4-a995-c7ad65533b1d"
      },
      "source": [
        "print(x.size())"
      ],
      "execution_count": 7,
      "outputs": [
        {
          "output_type": "stream",
          "text": [
            "torch.Size([3, 2])\n"
          ],
          "name": "stdout"
        }
      ]
    },
    {
      "cell_type": "code",
      "metadata": {
        "id": "_O7T0jSrkFBq",
        "colab_type": "code",
        "colab": {
          "base_uri": "https://localhost:8080/",
          "height": 101
        },
        "outputId": "e21dda0f-ece5-4413-8489-08d9d02883e5"
      },
      "source": [
        "print(x)\n",
        "print(x[:, 0])\n",
        "print(x[1,:])"
      ],
      "execution_count": 8,
      "outputs": [
        {
          "output_type": "stream",
          "text": [
            "tensor([[1, 2],\n",
            "        [3, 4],\n",
            "        [5, 6]])\n",
            "tensor([1, 3, 5])\n",
            "tensor([3, 4])\n"
          ],
          "name": "stdout"
        }
      ]
    },
    {
      "cell_type": "code",
      "metadata": {
        "id": "8dsBK_oCkN-d",
        "colab_type": "code",
        "colab": {
          "base_uri": "https://localhost:8080/",
          "height": 50
        },
        "outputId": "3f468424-f91f-4e52-cb52-8f287ae8d5f9"
      },
      "source": [
        "y=x[1,1]\n",
        "print(y)\n",
        "print(y.item())"
      ],
      "execution_count": 9,
      "outputs": [
        {
          "output_type": "stream",
          "text": [
            "tensor(4)\n",
            "4\n"
          ],
          "name": "stdout"
        }
      ]
    },
    {
      "cell_type": "markdown",
      "metadata": {
        "id": "D7ntpQPnkv5V",
        "colab_type": "text"
      },
      "source": [
        "#Reshaping Tensors "
      ]
    },
    {
      "cell_type": "code",
      "metadata": {
        "id": "flVU5tnRk0aO",
        "colab_type": "code",
        "colab": {
          "base_uri": "https://localhost:8080/",
          "height": 67
        },
        "outputId": "f8c9372a-27ef-4afc-dff2-e9e990402a04"
      },
      "source": [
        "print(x)"
      ],
      "execution_count": 10,
      "outputs": [
        {
          "output_type": "stream",
          "text": [
            "tensor([[1, 2],\n",
            "        [3, 4],\n",
            "        [5, 6]])\n"
          ],
          "name": "stdout"
        }
      ]
    },
    {
      "cell_type": "code",
      "metadata": {
        "id": "lkJVpWekk310",
        "colab_type": "code",
        "colab": {
          "base_uri": "https://localhost:8080/",
          "height": 50
        },
        "outputId": "1cd35d5f-d449-4e03-d0d8-04f58bf41e00"
      },
      "source": [
        "y=x.view(2, -1)\n",
        "print(y)"
      ],
      "execution_count": 11,
      "outputs": [
        {
          "output_type": "stream",
          "text": [
            "tensor([[1, 2, 3],\n",
            "        [4, 5, 6]])\n"
          ],
          "name": "stdout"
        }
      ]
    },
    {
      "cell_type": "code",
      "metadata": {
        "id": "vYYvI26Nk9YO",
        "colab_type": "code",
        "colab": {
          "base_uri": "https://localhost:8080/",
          "height": 118
        },
        "outputId": "a66a0ab2-78e3-489d-ed83-6b3be263bf88"
      },
      "source": [
        "y=y.view(6, -1)\n",
        "print(y)\n"
      ],
      "execution_count": 12,
      "outputs": [
        {
          "output_type": "stream",
          "text": [
            "tensor([[1],\n",
            "        [2],\n",
            "        [3],\n",
            "        [4],\n",
            "        [5],\n",
            "        [6]])\n"
          ],
          "name": "stdout"
        }
      ]
    },
    {
      "cell_type": "markdown",
      "metadata": {
        "id": "pc1FBEZdw8Uf",
        "colab_type": "text"
      },
      "source": [
        "#Numpy <> Pytorch"
      ]
    },
    {
      "cell_type": "code",
      "metadata": {
        "id": "ecfiG2bQxB0Q",
        "colab_type": "code",
        "colab": {
          "base_uri": "https://localhost:8080/",
          "height": 67
        },
        "outputId": "d3472e95-7cfe-4d85-ad95-7e0f75e434d7"
      },
      "source": [
        "print(x)"
      ],
      "execution_count": 13,
      "outputs": [
        {
          "output_type": "stream",
          "text": [
            "tensor([[1, 2],\n",
            "        [3, 4],\n",
            "        [5, 6]])\n"
          ],
          "name": "stdout"
        }
      ]
    },
    {
      "cell_type": "code",
      "metadata": {
        "id": "CKmjPAQAxHLO",
        "colab_type": "code",
        "colab": {
          "base_uri": "https://localhost:8080/",
          "height": 67
        },
        "outputId": "b484d0d8-5153-47f4-e218-5a37e3ba6f26"
      },
      "source": [
        "x_np=x.numpy()\n",
        "print(x_np)"
      ],
      "execution_count": 14,
      "outputs": [
        {
          "output_type": "stream",
          "text": [
            "[[1 2]\n",
            " [3 4]\n",
            " [5 6]]\n"
          ],
          "name": "stdout"
        }
      ]
    },
    {
      "cell_type": "code",
      "metadata": {
        "id": "dKKq8-ItxOTH",
        "colab_type": "code",
        "colab": {
          "base_uri": "https://localhost:8080/",
          "height": 67
        },
        "outputId": "4426c372-a706-486d-e498-eb1117e35998"
      },
      "source": [
        "x.add_(torch.ones_like(x))\n",
        "print(x)"
      ],
      "execution_count": 15,
      "outputs": [
        {
          "output_type": "stream",
          "text": [
            "tensor([[2, 3],\n",
            "        [4, 5],\n",
            "        [6, 7]])\n"
          ],
          "name": "stdout"
        }
      ]
    },
    {
      "cell_type": "code",
      "metadata": {
        "id": "KAfAcTp7xXiE",
        "colab_type": "code",
        "colab": {
          "base_uri": "https://localhost:8080/",
          "height": 67
        },
        "outputId": "692a9ecf-0004-4ec2-c5be-1c9719bccbe4"
      },
      "source": [
        "print(x_np)"
      ],
      "execution_count": 16,
      "outputs": [
        {
          "output_type": "stream",
          "text": [
            "[[2 3]\n",
            " [4 5]\n",
            " [6 7]]\n"
          ],
          "name": "stdout"
        }
      ]
    },
    {
      "cell_type": "code",
      "metadata": {
        "id": "4jjoeXtlxZqZ",
        "colab_type": "code",
        "colab": {
          "base_uri": "https://localhost:8080/",
          "height": 34
        },
        "outputId": "25abdab1-ac6a-425c-dd37-fa82e6f2a67b"
      },
      "source": [
        "c=[[1, 2, 3],[4, 5, 6]]\n",
        "print(c)"
      ],
      "execution_count": 17,
      "outputs": [
        {
          "output_type": "stream",
          "text": [
            "[[1, 2, 3], [4, 5, 6]]\n"
          ],
          "name": "stdout"
        }
      ]
    },
    {
      "cell_type": "code",
      "metadata": {
        "id": "NraHp8-Ixhok",
        "colab_type": "code",
        "colab": {
          "base_uri": "https://localhost:8080/",
          "height": 34
        },
        "outputId": "1fe34ebf-1598-4160-f232-a93a922041ba"
      },
      "source": [
        "type(c)"
      ],
      "execution_count": 18,
      "outputs": [
        {
          "output_type": "execute_result",
          "data": {
            "text/plain": [
              "list"
            ]
          },
          "metadata": {
            "tags": []
          },
          "execution_count": 18
        }
      ]
    },
    {
      "cell_type": "code",
      "metadata": {
        "id": "Yp_gAczQxnm8",
        "colab_type": "code",
        "colab": {
          "base_uri": "https://localhost:8080/",
          "height": 67
        },
        "outputId": "6c8f5584-09dd-40cf-f09a-27c72b2498e5"
      },
      "source": [
        "c=np.asarray([[1,2,3],[5,6,7]])\n",
        "print(c)\n",
        "print(type(c))"
      ],
      "execution_count": 19,
      "outputs": [
        {
          "output_type": "stream",
          "text": [
            "[[1 2 3]\n",
            " [5 6 7]]\n",
            "<class 'numpy.ndarray'>\n"
          ],
          "name": "stdout"
        }
      ]
    },
    {
      "cell_type": "code",
      "metadata": {
        "id": "2_F6aeZFxqgz",
        "colab_type": "code",
        "colab": {
          "base_uri": "https://localhost:8080/",
          "height": 50
        },
        "outputId": "ac5e7082-a18a-4702-c140-077a552ba280"
      },
      "source": [
        "c_pt=torch.from_numpy(c)\n",
        "print(c_pt)"
      ],
      "execution_count": 20,
      "outputs": [
        {
          "output_type": "stream",
          "text": [
            "tensor([[1, 2, 3],\n",
            "        [5, 6, 7]])\n"
          ],
          "name": "stdout"
        }
      ]
    },
    {
      "cell_type": "code",
      "metadata": {
        "id": "oSXZcb2OyLYS",
        "colab_type": "code",
        "colab": {
          "base_uri": "https://localhost:8080/",
          "height": 50
        },
        "outputId": "e8080098-cf50-405d-c3f5-9c21e1c6b8d2"
      },
      "source": [
        "np.add(c, 1, out=c)\n",
        "print(c)"
      ],
      "execution_count": 21,
      "outputs": [
        {
          "output_type": "stream",
          "text": [
            "[[2 3 4]\n",
            " [6 7 8]]\n"
          ],
          "name": "stdout"
        }
      ]
    },
    {
      "cell_type": "code",
      "metadata": {
        "id": "f-3WCEPRygLD",
        "colab_type": "code",
        "colab": {
          "base_uri": "https://localhost:8080/",
          "height": 50
        },
        "outputId": "7279e575-45d9-4a3a-f43f-3fb9da2ea63b"
      },
      "source": [
        "print(c_pt)"
      ],
      "execution_count": 22,
      "outputs": [
        {
          "output_type": "stream",
          "text": [
            "tensor([[2, 3, 4],\n",
            "        [6, 7, 8]])\n"
          ],
          "name": "stdout"
        }
      ]
    },
    {
      "cell_type": "code",
      "metadata": {
        "id": "S1qwVLqayvfN",
        "colab_type": "code",
        "colab": {
          "base_uri": "https://localhost:8080/",
          "height": 50
        },
        "outputId": "75bc4f58-4e6c-4597-bb79-eba1e9386f99"
      },
      "source": [
        "%%time\n",
        "for i in range(10):\n",
        "  a=np.random.random(100)\n",
        "  b=np.random.random(100)\n",
        "  c=np.matmul(a, b)\n"
      ],
      "execution_count": 23,
      "outputs": [
        {
          "output_type": "stream",
          "text": [
            "CPU times: user 175 µs, sys: 0 ns, total: 175 µs\n",
            "Wall time: 182 µs\n"
          ],
          "name": "stdout"
        }
      ]
    },
    {
      "cell_type": "code",
      "metadata": {
        "id": "_XL3deTOy9wj",
        "colab_type": "code",
        "colab": {
          "base_uri": "https://localhost:8080/",
          "height": 50
        },
        "outputId": "f600af5f-264c-442c-e59b-fb9357711a97"
      },
      "source": [
        "%%time \n",
        "for i in range(10):\n",
        "  a=torch.rand(100)\n",
        "  b=torch.rand(100)\n",
        "  c=torch.matmul(a, b)"
      ],
      "execution_count": 24,
      "outputs": [
        {
          "output_type": "stream",
          "text": [
            "CPU times: user 0 ns, sys: 348 µs, total: 348 µs\n",
            "Wall time: 5.02 ms\n"
          ],
          "name": "stdout"
        }
      ]
    },
    {
      "cell_type": "markdown",
      "metadata": {
        "id": "aPGDGiez22TL",
        "colab_type": "text"
      },
      "source": [
        "#Involving GPU"
      ]
    },
    {
      "cell_type": "code",
      "metadata": {
        "id": "E2NKRTpy2_qG",
        "colab_type": "code",
        "colab": {
          "base_uri": "https://localhost:8080/",
          "height": 34
        },
        "outputId": "fe725255-8cfa-4cf8-90d6-73b52ac335ed"
      },
      "source": [
        "print(torch.cuda.device_count())"
      ],
      "execution_count": 25,
      "outputs": [
        {
          "output_type": "stream",
          "text": [
            "1\n"
          ],
          "name": "stdout"
        }
      ]
    },
    {
      "cell_type": "code",
      "metadata": {
        "id": "OnmlsyWI3GYb",
        "colab_type": "code",
        "colab": {
          "base_uri": "https://localhost:8080/",
          "height": 50
        },
        "outputId": "376b7305-b38a-454e-98be-2bfbb7b7a276"
      },
      "source": [
        "print(torch.cuda.device(0))\n",
        "print(torch.cuda.get_device_name())"
      ],
      "execution_count": 26,
      "outputs": [
        {
          "output_type": "stream",
          "text": [
            "<torch.cuda.device object at 0x7fc7765fe6a0>\n",
            "Tesla T4\n"
          ],
          "name": "stdout"
        }
      ]
    },
    {
      "cell_type": "code",
      "metadata": {
        "id": "SgReHaAk4KUn",
        "colab_type": "code",
        "colab": {}
      },
      "source": [
        "cuda0=torch.device('cuda:0')"
      ],
      "execution_count": 27,
      "outputs": []
    },
    {
      "cell_type": "code",
      "metadata": {
        "id": "ZktXzz9Q4Xjv",
        "colab_type": "code",
        "colab": {
          "base_uri": "https://localhost:8080/",
          "height": 118
        },
        "outputId": "643203ac-5788-41f3-a58a-fdca723138c4"
      },
      "source": [
        "a=torch.ones((2, 3), device=cuda0)\n",
        "b=torch.ones((2, 3), device=cuda0)\n",
        "c=a+b\n",
        "print(a)\n",
        "print(b)\n",
        "print(c)"
      ],
      "execution_count": 28,
      "outputs": [
        {
          "output_type": "stream",
          "text": [
            "tensor([[1., 1., 1.],\n",
            "        [1., 1., 1.]], device='cuda:0')\n",
            "tensor([[1., 1., 1.],\n",
            "        [1., 1., 1.]], device='cuda:0')\n",
            "tensor([[2., 2., 2.],\n",
            "        [2., 2., 2.]], device='cuda:0')\n"
          ],
          "name": "stdout"
        }
      ]
    },
    {
      "cell_type": "code",
      "metadata": {
        "id": "kXGVsS0s4e8o",
        "colab_type": "code",
        "colab": {
          "base_uri": "https://localhost:8080/",
          "height": 50
        },
        "outputId": "c6d122ca-9929-4e63-82f2-a7c8fd402eba"
      },
      "source": [
        "%%time\n",
        "for i in range(10):\n",
        "  a=np.random.random(100)\n",
        "  b=np.random.random(100)\n",
        "  c=np.matmul(a, b)"
      ],
      "execution_count": 29,
      "outputs": [
        {
          "output_type": "stream",
          "text": [
            "CPU times: user 140 µs, sys: 0 ns, total: 140 µs\n",
            "Wall time: 145 µs\n"
          ],
          "name": "stdout"
        }
      ]
    },
    {
      "cell_type": "code",
      "metadata": {
        "id": "1mRNQ33V41zZ",
        "colab_type": "code",
        "colab": {
          "base_uri": "https://localhost:8080/",
          "height": 50
        },
        "outputId": "a8d9a50f-7de6-4569-9062-08147ba1378c"
      },
      "source": [
        "%%time \n",
        "for i in range(10):\n",
        "  a=torch.rand(100)\n",
        "  b=torch.rand(100)\n",
        "  c=torch.matmul(a, b)"
      ],
      "execution_count": 30,
      "outputs": [
        {
          "output_type": "stream",
          "text": [
            "CPU times: user 192 µs, sys: 0 ns, total: 192 µs\n",
            "Wall time: 198 µs\n"
          ],
          "name": "stdout"
        }
      ]
    },
    {
      "cell_type": "code",
      "metadata": {
        "id": "1zTWZmPo46Za",
        "colab_type": "code",
        "colab": {
          "base_uri": "https://localhost:8080/",
          "height": 50
        },
        "outputId": "9a8b43b3-0512-456d-8e84-346f94f47824"
      },
      "source": [
        "%%time \n",
        "for i in range(10):\n",
        "  a=torch.rand(100, device=cuda0)\n",
        "  b=torch.rand(100, device=cuda0)\n",
        "  c=torch.matmul(a, b)"
      ],
      "execution_count": 31,
      "outputs": [
        {
          "output_type": "stream",
          "text": [
            "CPU times: user 1.84 ms, sys: 0 ns, total: 1.84 ms\n",
            "Wall time: 8.64 ms\n"
          ],
          "name": "stdout"
        }
      ]
    },
    {
      "cell_type": "markdown",
      "metadata": {
        "id": "BX6Q44os5RvC",
        "colab_type": "text"
      },
      "source": [
        "#Automatic Differenciation\n"
      ]
    },
    {
      "cell_type": "code",
      "metadata": {
        "id": "ImFBeSHJ5bZp",
        "colab_type": "code",
        "colab": {}
      },
      "source": [
        "import torch\n",
        "x=torch.ones([3,4], requires_grad=True)"
      ],
      "execution_count": 32,
      "outputs": []
    },
    {
      "cell_type": "code",
      "metadata": {
        "id": "9AAuKagIFKBX",
        "colab_type": "code",
        "colab": {
          "base_uri": "https://localhost:8080/",
          "height": 218
        },
        "outputId": "4e730dc6-7a33-4879-85b8-2f7f5793b41a"
      },
      "source": [
        "y=x+5\n",
        "z=y**2 +1\n",
        "print(y)\n",
        "print(z)\n",
        "t=torch.sum(z)\n",
        "print(z)\n",
        "t.backward()\n",
        "print(x.grad) #prints the differenciation if t w.r.t x"
      ],
      "execution_count": 33,
      "outputs": [
        {
          "output_type": "stream",
          "text": [
            "tensor([[6., 6., 6., 6.],\n",
            "        [6., 6., 6., 6.],\n",
            "        [6., 6., 6., 6.]], grad_fn=<AddBackward0>)\n",
            "tensor([[37., 37., 37., 37.],\n",
            "        [37., 37., 37., 37.],\n",
            "        [37., 37., 37., 37.]], grad_fn=<AddBackward0>)\n",
            "tensor([[37., 37., 37., 37.],\n",
            "        [37., 37., 37., 37.],\n",
            "        [37., 37., 37., 37.]], grad_fn=<AddBackward0>)\n",
            "tensor([[12., 12., 12., 12.],\n",
            "        [12., 12., 12., 12.],\n",
            "        [12., 12., 12., 12.]])\n"
          ],
          "name": "stdout"
        }
      ]
    },
    {
      "cell_type": "code",
      "metadata": {
        "id": "BhNwiDvpFlyE",
        "colab_type": "code",
        "colab": {
          "base_uri": "https://localhost:8080/",
          "height": 67
        },
        "outputId": "adc76e18-1999-4457-c67d-d34cea4ba270"
      },
      "source": [
        "x=torch.ones([3,2], requires_grad=True)\n",
        "y=x+5\n",
        "r=1/(1+torch.exp(-y))\n",
        "s=torch.sum(r)\n",
        "s.backward()\n",
        "print(x.grad)"
      ],
      "execution_count": 34,
      "outputs": [
        {
          "output_type": "stream",
          "text": [
            "tensor([[0.0025, 0.0025],\n",
            "        [0.0025, 0.0025],\n",
            "        [0.0025, 0.0025]])\n"
          ],
          "name": "stdout"
        }
      ]
    },
    {
      "cell_type": "code",
      "metadata": {
        "id": "jSxLCgU5GHke",
        "colab_type": "code",
        "colab": {
          "base_uri": "https://localhost:8080/",
          "height": 67
        },
        "outputId": "18dfee64-2399-4777-874c-253607b5a181"
      },
      "source": [
        "x=torch.ones([3,2], requires_grad=True)\n",
        "y=x+5\n",
        "r=1/(1+torch.exp(-y))\n",
        "a=torch.ones_like(r) #a is a scalar matrix whuch must have the same size as r\n",
        "r.backward(a) \n",
        "print(x.grad)"
      ],
      "execution_count": 35,
      "outputs": [
        {
          "output_type": "stream",
          "text": [
            "tensor([[0.0025, 0.0025],\n",
            "        [0.0025, 0.0025],\n",
            "        [0.0025, 0.0025]])\n"
          ],
          "name": "stdout"
        }
      ]
    },
    {
      "cell_type": "code",
      "metadata": {
        "id": "oguEoiZpG54e",
        "colab_type": "code",
        "colab": {}
      },
      "source": [
        "x= torch.randn([20, 1], requires_grad=True)\n",
        "y=3*x-2"
      ],
      "execution_count": 36,
      "outputs": []
    },
    {
      "cell_type": "code",
      "metadata": {
        "id": "-XEFpsCaIgac",
        "colab_type": "code",
        "colab": {}
      },
      "source": [
        "w=torch.tensor([1.], requires_grad=True)\n",
        "b=torch.tensor([1.], requires_grad=True)\n",
        "y_hat=w*x+b\n",
        "loss=sum((y_hat-y)**2)"
      ],
      "execution_count": 37,
      "outputs": []
    },
    {
      "cell_type": "code",
      "metadata": {
        "id": "KcsTuSGIJE80",
        "colab_type": "code",
        "colab": {
          "base_uri": "https://localhost:8080/",
          "height": 34
        },
        "outputId": "b375e613-262f-41a4-ce46-f5104818c5a6"
      },
      "source": [
        "print(loss)"
      ],
      "execution_count": 38,
      "outputs": [
        {
          "output_type": "stream",
          "text": [
            "tensor([177.2720], grad_fn=<AddBackward0>)\n"
          ],
          "name": "stdout"
        }
      ]
    },
    {
      "cell_type": "code",
      "metadata": {
        "id": "kS4kwfY9JGXI",
        "colab_type": "code",
        "colab": {}
      },
      "source": [
        "loss.backward()"
      ],
      "execution_count": 39,
      "outputs": []
    },
    {
      "cell_type": "code",
      "metadata": {
        "id": "9Sg8kjF8JMYt",
        "colab_type": "code",
        "colab": {
          "base_uri": "https://localhost:8080/",
          "height": 34
        },
        "outputId": "ad47e309-87e2-46be-b462-94ce811621bc"
      },
      "source": [
        "print(w.grad, b.grad)"
      ],
      "execution_count": 40,
      "outputs": [
        {
          "output_type": "stream",
          "text": [
            "tensor([-11.9632]) tensor([110.2059])\n"
          ],
          "name": "stdout"
        }
      ]
    },
    {
      "cell_type": "code",
      "metadata": {
        "id": "b3QoNfngJQcg",
        "colab_type": "code",
        "colab": {
          "base_uri": "https://localhost:8080/",
          "height": 202
        },
        "outputId": "a54db807-e866-48f5-9fca-f14b9854fe9a"
      },
      "source": [
        "learning_rate=0.01\n",
        "w=torch.tensor([1.], requires_grad=True)\n",
        "b=torch.tensor([1.], requires_grad=True)\n",
        "print(w.item(), b.item())\n",
        "for i in range(10):\n",
        "  x=torch.randn([20, 1])\n",
        "  y=3*x-2\n",
        "\n",
        "  y_hat=w*x+b\n",
        "  loss=torch.sum((y_hat-y)**2)\n",
        "  loss.backward()\n",
        "  with torch.no_grad():\n",
        "    w-=learning_rate*w.grad\n",
        "    b-=learning_rate*b.grad\n",
        "    w.grad.zero_()\n",
        "    b.grad.zero_()\n",
        "  print(w.item(), b.item())"
      ],
      "execution_count": 41,
      "outputs": [
        {
          "output_type": "stream",
          "text": [
            "1.0 1.0\n",
            "2.028731346130371 -0.2727830410003662\n",
            "2.291142702102661 -0.9707301259040833\n",
            "2.7479805946350098 -1.4095649719238281\n",
            "2.852459669113159 -1.6520020961761475\n",
            "2.8860726356506348 -1.7796242237091064\n",
            "2.9208884239196777 -1.8652315139770508\n",
            "2.9498629570007324 -1.9133681058883667\n",
            "2.958203077316284 -1.946061134338379\n",
            "2.9819674491882324 -1.971982479095459\n",
            "2.9890592098236084 -1.9833402633666992\n"
          ],
          "name": "stdout"
        }
      ]
    },
    {
      "cell_type": "code",
      "metadata": {
        "id": "SMLigRGwtn87",
        "colab_type": "code",
        "colab": {
          "base_uri": "https://localhost:8080/",
          "height": 34
        },
        "outputId": "c049e306-3667-4e2a-d6db-8e72b0022598"
      },
      "source": [
        "learning_rate=0.01\n",
        "N=10000\n",
        "epochs=2000\n",
        "\n",
        "w=torch.tensor([10000.], requires_grad=True)\n",
        "b=torch.tensor([1.], requires_grad=True)\n",
        "for i in range(epochs):\n",
        "  x=torch.rand([N])\n",
        "  y=torch.dot(3*torch.ones([N]), x)-2\n",
        "\n",
        "  y_hat=w*x+b\n",
        "  loss=torch.sum((y_hat-y)**2)\n",
        "\n",
        "  loss.backward()\n",
        "  with torch.no_grad():\n",
        "    w-=learning_rate*w.grad\n",
        "    b-=learning_rate*b.grad\n",
        "    w.grad.zero_()\n",
        "    b.grad.zero_()\n",
        "print(torch.mean(w).item(), b.item())    \n"
      ],
      "execution_count": 42,
      "outputs": [
        {
          "output_type": "stream",
          "text": [
            "nan nan\n"
          ],
          "name": "stdout"
        }
      ]
    },
    {
      "cell_type": "markdown",
      "metadata": {
        "id": "aa21B8ti7Buq",
        "colab_type": "text"
      },
      "source": [
        "#Feed Forward Networks with Pytorch \n"
      ]
    },
    {
      "cell_type": "code",
      "metadata": {
        "id": "Yr26RYaKFcE7",
        "colab_type": "code",
        "colab": {}
      },
      "source": [
        "import numpy as np\n",
        "import math \n",
        "import matplotlib.pyplot as plt\n",
        "import matplotlib.colors\n",
        "import pandas as pd \n",
        "from sklearn.model_selection import train_test_split \n",
        "from sklearn.metrics import accuracy_score, mean_squared_error, log_loss\n",
        "from tqdm import tqdm_notebook \n",
        "import seaborn as sns\n",
        "import time \n",
        "from  IPython.display import HTML\n",
        "import warnings \n",
        "warnings. filterwarnings('ignore')\n",
        "\n",
        "from sklearn.preprocessing import OneHotEncoder \n",
        "from sklearn.datasets import make_blobs \n",
        "\n",
        "import torch "
      ],
      "execution_count": 66,
      "outputs": []
    },
    {
      "cell_type": "code",
      "metadata": {
        "id": "Mhkloo8_eFs-",
        "colab_type": "code",
        "colab": {
          "base_uri": "https://localhost:8080/",
          "height": 34
        },
        "outputId": "f1011985-e1d1-435d-e1de-e2052dc4f6db"
      },
      "source": [
        "torch.manual_seed(0)"
      ],
      "execution_count": 67,
      "outputs": [
        {
          "output_type": "execute_result",
          "data": {
            "text/plain": [
              "<torch._C.Generator at 0x7fc776c143b0>"
            ]
          },
          "metadata": {
            "tags": []
          },
          "execution_count": 67
        }
      ]
    },
    {
      "cell_type": "code",
      "metadata": {
        "id": "kTSWtfv_5A9y",
        "colab_type": "code",
        "colab": {}
      },
      "source": [
        "my_cmap=matplotlib.colors.LinearSegmentedColormap.from_list('', ['violet','black','darkblue'])"
      ],
      "execution_count": 68,
      "outputs": []
    },
    {
      "cell_type": "code",
      "metadata": {
        "id": "VokCoYH95ezH",
        "colab_type": "code",
        "colab": {}
      },
      "source": [
        "#Generating dataset"
      ],
      "execution_count": 69,
      "outputs": []
    },
    {
      "cell_type": "code",
      "metadata": {
        "id": "N4pdqX6R5mAA",
        "colab_type": "code",
        "colab": {
          "base_uri": "https://localhost:8080/",
          "height": 34
        },
        "outputId": "b04266d1-63ee-4956-8dbe-7a27519a72eb"
      },
      "source": [
        "data, labels= make_blobs(n_samples=1000, n_features=2, centers=4, random_state=0)\n",
        "print(data.shape, labels.shape)"
      ],
      "execution_count": 70,
      "outputs": [
        {
          "output_type": "stream",
          "text": [
            "(1000, 2) (1000,)\n"
          ],
          "name": "stdout"
        }
      ]
    },
    {
      "cell_type": "code",
      "metadata": {
        "id": "fPxDfy2Z6fPs",
        "colab_type": "code",
        "colab": {
          "base_uri": "https://localhost:8080/",
          "height": 487
        },
        "outputId": "7d7fb392-56d7-4637-bf96-a6da6c0cebec"
      },
      "source": [
        "print(labels)"
      ],
      "execution_count": 71,
      "outputs": [
        {
          "output_type": "stream",
          "text": [
            "[3 0 3 2 1 0 0 1 0 0 3 1 2 3 1 2 2 3 0 1 0 3 1 1 1 2 1 1 1 2 1 0 3 2 3 0 3\n",
            " 0 2 2 0 0 0 2 3 0 0 3 2 0 1 0 0 2 3 1 0 0 3 3 1 1 2 2 2 3 0 2 3 3 3 3 3 2\n",
            " 0 3 0 3 2 1 0 0 0 2 1 0 0 0 2 2 3 2 2 3 3 3 2 2 0 0 1 2 0 1 0 2 0 3 2 1 0\n",
            " 0 2 3 2 2 0 2 1 1 1 3 2 2 0 1 0 3 2 1 1 0 2 0 0 0 2 0 1 3 1 3 1 0 3 3 1 0\n",
            " 3 3 1 0 0 0 2 0 0 0 1 2 3 1 0 0 0 0 3 3 0 1 2 1 1 1 2 1 2 1 1 0 2 0 2 0 0\n",
            " 2 1 2 1 3 2 0 1 1 2 3 2 3 2 2 2 0 3 3 1 1 2 0 3 0 3 2 0 3 2 0 0 1 1 3 0 0\n",
            " 0 3 0 0 0 2 3 3 0 2 0 0 2 1 2 1 1 2 0 2 1 1 3 3 3 3 3 3 0 2 3 2 2 1 2 0 3\n",
            " 0 1 3 0 1 3 2 0 2 3 1 1 0 1 2 3 3 2 3 2 0 1 3 2 0 2 2 2 0 2 3 1 2 0 3 3 1\n",
            " 3 1 0 3 1 3 3 2 2 3 0 0 1 0 0 0 3 1 2 0 2 1 0 3 0 3 1 2 2 0 3 1 3 1 3 1 3\n",
            " 2 2 3 1 0 1 0 2 0 3 0 1 1 1 1 1 1 2 1 2 1 0 3 1 3 3 0 0 0 0 3 3 2 3 3 3 0\n",
            " 3 1 2 3 2 1 2 0 3 3 3 0 2 1 1 1 3 3 2 3 1 3 1 3 2 3 3 1 1 0 3 2 3 2 2 1 0\n",
            " 0 0 3 2 0 2 2 2 0 0 3 1 3 0 2 2 2 3 0 3 3 0 0 2 1 2 3 3 0 2 0 1 3 1 3 3 2\n",
            " 2 0 1 0 0 0 2 3 0 2 3 1 2 1 3 1 0 1 0 3 3 1 2 3 3 1 0 2 0 0 0 0 0 1 2 0 2\n",
            " 0 1 0 3 2 2 3 3 3 3 1 2 2 2 1 3 0 3 0 1 2 2 3 0 2 1 3 3 2 1 2 1 3 1 3 2 1\n",
            " 1 3 2 3 0 3 0 0 2 1 0 1 0 2 3 2 2 2 3 2 2 0 3 1 1 1 0 0 1 0 2 2 2 1 2 0 3\n",
            " 2 3 1 3 2 1 1 0 3 2 2 1 0 1 3 2 2 3 3 0 2 3 2 1 1 0 1 1 0 1 3 3 2 1 0 0 2\n",
            " 3 0 3 0 3 0 2 2 3 3 3 3 1 1 0 2 0 3 3 1 1 0 3 2 0 1 2 2 0 0 1 2 3 3 1 3 3\n",
            " 3 1 0 3 2 3 2 3 0 0 1 1 1 2 2 1 0 0 0 0 0 3 3 2 0 2 1 3 3 0 2 3 0 3 3 2 0\n",
            " 1 2 2 0 2 2 3 0 2 2 1 0 1 3 1 2 0 1 3 0 1 1 2 2 0 2 2 3 0 2 3 1 1 1 1 1 2\n",
            " 2 0 0 3 1 3 0 1 3 1 3 0 1 1 0 1 2 3 1 2 0 3 1 1 3 1 3 1 0 3 1 1 2 0 0 3 1\n",
            " 0 0 1 2 1 0 3 2 1 2 2 1 3 1 1 0 2 1 2 1 2 1 1 1 1 0 2 2 1 1 3 3 0 1 1 1 2\n",
            " 0 1 0 1 1 3 3 1 1 0 3 3 0 1 3 2 1 1 3 1 3 2 0 3 0 3 3 3 1 1 2 1 3 2 0 1 3\n",
            " 0 1 0 2 1 2 3 1 2 2 1 2 0 3 2 2 1 1 2 1 0 0 1 2 3 2 2 0 2 1 1 1 2 2 2 2 2\n",
            " 3 2 2 3 1 0 1 3 1 2 0 2 0 3 1 2 0 2 0 0 3 3 1 3 1 2 1 2 2 1 1 0 0 1 2 3 0\n",
            " 0 2 3 1 0 3 1 2 3 0 0 0 0 2 3 0 0 1 2 0 1 3 2 0 3 0 1 3 1 0 0 2 2 0 2 1 0\n",
            " 1 0 0 0 1 1 0 3 1 3 0 2 2 2 1 1 1 2 0 0 3 3 3 2 2 1 0 3 1 1 3 2 3 2 0 2 3\n",
            " 3 3 3 0 2 2 0 3 2 2 2 1 2 1 1 2 1 2 1 3 1 3 3 3 3 2 2 1 3 1 3 1 2 3 3 3 3\n",
            " 1]\n"
          ],
          "name": "stdout"
        }
      ]
    },
    {
      "cell_type": "code",
      "metadata": {
        "id": "nmAB6jVI6hNn",
        "colab_type": "code",
        "colab": {
          "base_uri": "https://localhost:8080/",
          "height": 134
        },
        "outputId": "dc3c0c27-a6de-4c4e-86e8-7d4a43e26ed2"
      },
      "source": [
        "print(data)"
      ],
      "execution_count": 72,
      "outputs": [
        {
          "output_type": "stream",
          "text": [
            "[[-2.50804312  7.86408052]\n",
            " [ 0.4666179   3.86571303]\n",
            " [-2.94062621  8.56480636]\n",
            " ...\n",
            " [-1.13551783  8.49272771]\n",
            " [-1.22933367  7.75342586]\n",
            " [ 3.90485877  0.683497  ]]\n"
          ],
          "name": "stdout"
        }
      ]
    },
    {
      "cell_type": "code",
      "metadata": {
        "id": "q3j8CTYO6i3T",
        "colab_type": "code",
        "colab": {
          "base_uri": "https://localhost:8080/",
          "height": 265
        },
        "outputId": "83f3d6bd-327d-464a-d317-40de2c619538"
      },
      "source": [
        "plt.scatter(data[:, 0], data[:, 1], c=labels, cmap=my_cmap)\n",
        "plt.show()"
      ],
      "execution_count": 73,
      "outputs": [
        {
          "output_type": "display_data",
          "data": {
            "image/png": "[encoded data removed]",
            "text/plain": [
              "<Figure size 432x288 with 1 Axes>"
            ]
          },
          "metadata": {
            "tags": [],
            "needs_background": "light"
          }
        }
      ]
    },
    {
      "cell_type": "code",
      "metadata": {
        "id": "e0n3b2GI6_2M",
        "colab_type": "code",
        "colab": {
          "base_uri": "https://localhost:8080/",
          "height": 34
        },
        "outputId": "f818db3e-59ce-45ce-aff3-ef85a1dd3c00"
      },
      "source": [
        "X_train, X_test, Y_train, Y_test= train_test_split(data, labels, stratify=labels, random_state=0)\n",
        "print(X_train.shape, X_test.shape, Y_train.shape, Y_test.shape)"
      ],
      "execution_count": 74,
      "outputs": [
        {
          "output_type": "stream",
          "text": [
            "(750, 2) (250, 2) (750,) (250,)\n"
          ],
          "name": "stdout"
        }
      ]
    },
    {
      "cell_type": "code",
      "metadata": {
        "id": "54dHa7Fsjuds",
        "colab_type": "code",
        "colab": {
          "base_uri": "https://localhost:8080/",
          "height": 34
        },
        "outputId": "fa4795fe-949f-4954-bb12-56c2311e3742"
      },
      "source": [
        "X_train, X_test, Y_train, Y_test= map(torch.tensor, (X_train, X_test, Y_train, Y_test))\n",
        "print(X_train.shape, X_test.shape, Y_train.shape, Y_test.shape)"
      ],
      "execution_count": 86,
      "outputs": [
        {
          "output_type": "stream",
          "text": [
            "torch.Size([750, 2]) torch.Size([250, 2]) torch.Size([750]) torch.Size([250])\n"
          ],
          "name": "stdout"
        }
      ]
    },
    {
      "cell_type": "code",
      "metadata": {
        "id": "msuAQfIN70Qy",
        "colab_type": "code",
        "colab": {}
      },
      "source": [
        "def model(x):\n",
        "  a1 = torch.matmul(x, weights1) + bias1 # (N, 2) x (2, 2) -> (N, 2)\n",
        "  h1 = a1.sigmoid() # (N, 2)\n",
        "  a2 = torch.matmul(h1, weights2) + bias2 # (N, 2) x (2, 4) -> (N, 4)\n",
        "  h2 = a2.exp()/a2.exp().sum(-1).unsqueeze(-1) # (N, 4)\n",
        "  return h2"
      ],
      "execution_count": 87,
      "outputs": []
    },
    {
      "cell_type": "code",
      "metadata": {
        "id": "0oASA5NxBCyC",
        "colab_type": "code",
        "colab": {}
      },
      "source": [
        "def loss_fn(y_hat, y):\n",
        "  return -(y_hat[range(y.shape[0]), y].log()).mean()"
      ],
      "execution_count": 88,
      "outputs": []
    },
    {
      "cell_type": "code",
      "metadata": {
        "id": "1V38ge8JCLh6",
        "colab_type": "code",
        "colab": {}
      },
      "source": [
        "def accuracy(y_hat, y):\n",
        "  pred = torch.argmax(y_hat, dim=1)\n",
        "  return (pred == y).float().mean()"
      ],
      "execution_count": 89,
      "outputs": []
    },
    {
      "cell_type": "code",
      "metadata": {
        "id": "uDdQ3ldQDaFe",
        "colab_type": "code",
        "colab": {
          "base_uri": "https://localhost:8080/",
          "height": 301
        },
        "outputId": "a212be44-4fc9-4f0c-d1ce-39963173586f"
      },
      "source": [
        "torch.manual_seed(0)\n",
        "weights1 = torch.randn(2, 2) / math.sqrt(2)\n",
        "weights1.requires_grad_()\n",
        "bias1 = torch.zeros(2, requires_grad=True)\n",
        "\n",
        "weights2 = torch.randn(2, 4) / math.sqrt(2)\n",
        "weights2.requires_grad_()\n",
        "bias2 = torch.zeros(4, requires_grad=True)\n",
        "\n",
        "learning_rate = 0.2\n",
        "epochs = 10000\n",
        "\n",
        "X_train = X_train.float()\n",
        "Y_train = Y_train.long()\n",
        "\n",
        "loss_arr = []\n",
        "acc_arr = []\n",
        "\n",
        "for epoch in range(epochs):\n",
        "  y_hat = model(X_train)\n",
        "  loss = loss_fn(y_hat, Y_train)\n",
        "  loss.backward()\n",
        "  loss_arr.append(loss.item())\n",
        "  acc_arr.append(accuracy(y_hat, Y_train))\n",
        "\n",
        "  with torch.no_grad():\n",
        "    weights1 -= weights1.grad * learning_rate\n",
        "    bias1 -= bias1.grad * learning_rate\n",
        "    weights2 -= weights2.grad * learning_rate\n",
        "    bias2 -= bias2.grad * learning_rate\n",
        "    weights1.grad.zero_()\n",
        "    bias1.grad.zero_()\n",
        "    weights2.grad.zero_()\n",
        "    bias2.grad.zero_()\n",
        "\n",
        "plt.plot(loss_arr, 'r-')\n",
        "plt.plot(acc_arr, 'b-')\n",
        "plt.show()\n",
        "print('Loss before training', loss_arr[0])\n",
        "print('Loss after training', loss_arr[-1])"
      ],
      "execution_count": 90,
      "outputs": [
        {
          "output_type": "display_data",
          "data": {
            "image/png": "[encoded data removed]",
            "text/plain": [
              "<Figure size 432x288 with 1 Axes>"
            ]
          },
          "metadata": {
            "tags": [],
            "needs_background": "light"
          }
        },
        {
          "output_type": "stream",
          "text": [
            "Loss before training 1.5456441640853882\n",
            "Loss after training 0.19288592040538788\n"
          ],
          "name": "stdout"
        }
      ]
    },
    {
      "cell_type": "code",
      "metadata": {
        "id": "acoLMeXDliSC",
        "colab_type": "code",
        "colab": {}
      },
      "source": [
        ""
      ],
      "execution_count": null,
      "outputs": []
    }
  ]
}